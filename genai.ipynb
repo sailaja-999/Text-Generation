{
  "cells": [
    {
      "cell_type": "markdown",
      "metadata": {
        "id": "view-in-github",
        "colab_type": "text"
      },
      "source": [
        "<a href=\"https://colab.research.google.com/github/sailaja-999/Text-Generation/blob/main/genai.ipynb\" target=\"_parent\"><img src=\"https://colab.research.google.com/assets/colab-badge.svg\" alt=\"Open In Colab\"/></a>"
      ]
    },
    {
      "cell_type": "code",
      "source": [
        "!pip install -q -U google-generativeai"
      ],
      "metadata": {
        "id": "ixhBSs0QzacK",
        "outputId": "050841e9-845d-4544-b26e-ba5a91ad472c",
        "colab": {
          "base_uri": "https://localhost:8080/"
        }
      },
      "execution_count": null,
      "outputs": [
        {
          "output_type": "stream",
          "name": "stdout",
          "text": [
            "\u001b[?25l     \u001b[90m━━━━━━━━━━━━━━━━━━━━━━━━━━━━━━━━━━━━━━━━\u001b[0m \u001b[32m0.0/150.7 kB\u001b[0m \u001b[31m?\u001b[0m eta \u001b[36m-:--:--\u001b[0m\r\u001b[2K     \u001b[91m━━━━━━━━━━━━━━━━━━━━━━━━━━━━━━━━\u001b[0m\u001b[91m╸\u001b[0m\u001b[90m━━━━━━━\u001b[0m \u001b[32m122.9/150.7 kB\u001b[0m \u001b[31m3.6 MB/s\u001b[0m eta \u001b[36m0:00:01\u001b[0m\r\u001b[2K     \u001b[90m━━━━━━━━━━━━━━━━━━━━━━━━━━━━━━━━━━━━━━━━\u001b[0m \u001b[32m150.7/150.7 kB\u001b[0m \u001b[31m2.7 MB/s\u001b[0m eta \u001b[36m0:00:00\u001b[0m\n",
            "\u001b[?25h\u001b[?25l     \u001b[90m━━━━━━━━━━━━━━━━━━━━━━━━━━━━━━━━━━━━━━━━\u001b[0m \u001b[32m0.0/677.8 kB\u001b[0m \u001b[31m?\u001b[0m eta \u001b[36m-:--:--\u001b[0m\r\u001b[2K     \u001b[90m━━━━━━━━━━━━━━━━━━━━━━━━━━━━━━━━━━━━━━━━\u001b[0m \u001b[32m677.8/677.8 kB\u001b[0m \u001b[31m26.3 MB/s\u001b[0m eta \u001b[36m0:00:00\u001b[0m\n",
            "\u001b[?25h"
          ]
        }
      ]
    },
    {
      "cell_type": "code",
      "source": [
        "import pathlib\n",
        "import textwrap\n",
        "import google.generativeai as genai\n",
        "from google.colab import userdata\n",
        "from IPython.display  import display,Markdown"
      ],
      "metadata": {
        "id": "U20vLqZt0Jdh"
      },
      "execution_count": null,
      "outputs": []
    },
    {
      "cell_type": "code",
      "source": [
        "x=userdata.get('Google_api_key')\n",
        "genai.configure(api_key=x)"
      ],
      "metadata": {
        "id": "jlebwwki0m0P"
      },
      "execution_count": null,
      "outputs": []
    },
    {
      "cell_type": "code",
      "source": [
        "for a in genai.list_models():\n",
        "  if 'generateContent' in a.supported_generation_methods:\n",
        "    print(a.name)"
      ],
      "metadata": {
        "id": "Y3cNToOn1UEy",
        "outputId": "7dc50d05-afdf-44e7-db25-caaa6718ce8d",
        "colab": {
          "base_uri": "https://localhost:8080/",
          "height": 163
        }
      },
      "execution_count": null,
      "outputs": [
        {
          "output_type": "stream",
          "name": "stdout",
          "text": [
            "models/gemini-1.0-pro\n",
            "models/gemini-1.0-pro-001\n",
            "models/gemini-1.0-pro-latest\n",
            "models/gemini-1.0-pro-vision-latest\n",
            "models/gemini-1.5-flash-latest\n",
            "models/gemini-1.5-pro-latest\n",
            "models/gemini-pro\n",
            "models/gemini-pro-vision\n"
          ]
        }
      ]
    },
    {
      "cell_type": "code",
      "source": [
        "model=genai.GenerativeModel(\"gemini-1.5-pro-latest\")"
      ],
      "metadata": {
        "id": "1GFesThj2sMW"
      },
      "execution_count": null,
      "outputs": []
    },
    {
      "cell_type": "code",
      "source": [
        "ans=model.generate_content(\"whatdoes the bhagavadthgita teach ?\")\n",
        "print(ans)"
      ],
      "metadata": {
        "id": "Hw7qoL_Y2vVU",
        "outputId": "7e96d9d5-db96-42d9-eb18-aa315e5a103a",
        "colab": {
          "base_uri": "https://localhost:8080/",
          "height": 858
        }
      },
      "execution_count": null,
      "outputs": [
        {
          "output_type": "stream",
          "name": "stdout",
          "text": [
            "response:\n",
            "GenerateContentResponse(\n",
            "    done=True,\n",
            "    iterator=None,\n",
            "    result=glm.GenerateContentResponse({\n",
            "      \"candidates\": [\n",
            "        {\n",
            "          \"content\": {\n",
            "            \"parts\": [\n",
            "              {\n",
            "                \"text\": \"The Bhagavad Gita, a 700-verse Hindu scripture in Sanskrit, is part of the epic Mahabharata. It's a profound philosophical and spiritual dialogue between Prince Arjuna and Lord Krishna on the battlefield of Kurukshetra. Here are some of its key teachings:\\n\\n**1. The Nature of the Self (Atman):**  The Gita emphasizes the eternal nature of the soul (Atman) which is distinct from the temporary body. It teaches that the true self is unchanging, pure consciousness.\\n\\n**2. Paths to Liberation (Moksha):** The Gita outlines three main paths to liberation from the cycle of birth and death:\\n\\n    * **Karma Yoga:** The path of selfless action, performing one's duty without attachment to the results. \\n    * **Bhakti Yoga:** The path of devotion, surrendering to a higher power (Krishna in this case).\\n    * **Jnana Yoga:** The path of knowledge and wisdom, understanding the true nature of reality.\\n\\n**3. Importance of Duty (Dharma):**  The Gita stresses fulfilling one's duty in accordance with one's position in life.  Arjuna's duty as a warrior is to fight, even if it means battling his own kin.\\n\\n**4.  Control of the Mind and Senses:** The Gita highlights the importance of controlling the mind and senses to achieve inner peace and spiritual progress. \\n\\n**5. Equanimity (Samatvam):** It encourages equanimity in the face of life's challenges, remaining detached from both pleasure and pain.\\n\\n**6.  The Divine Nature of Reality:** The Gita presents Krishna as the ultimate reality, the source of all creation, and the goal of spiritual aspiration.\\n\\n**7.  Renunciation of Attachment:** To attain liberation, one must renounce attachment to material possessions and worldly desires.\\n\\n**8.  The Importance of a Spiritual Teacher (Guru):** The Gita emphasizes the role of a spiritual guide in helping seekers understand and apply its teachings. \\n\\n**Beyond these, the Bhagavad Gita also offers insights on:**\\n\\n* **The nature of good and evil**\\n* **The meaning of life and death**\\n* **The relationship between the individual and the divine**\\n\\nIt's a text that continues to resonate with people of various backgrounds, offering guidance on living a meaningful and fulfilling life. \\n\"\n",
            "              }\n",
            "            ],\n",
            "            \"role\": \"model\"\n",
            "          },\n",
            "          \"finish_reason\": 1,\n",
            "          \"index\": 0,\n",
            "          \"safety_ratings\": [\n",
            "            {\n",
            "              \"category\": 9,\n",
            "              \"probability\": 1,\n",
            "              \"blocked\": false\n",
            "            },\n",
            "            {\n",
            "              \"category\": 8,\n",
            "              \"probability\": 1,\n",
            "              \"blocked\": false\n",
            "            },\n",
            "            {\n",
            "              \"category\": 7,\n",
            "              \"probability\": 1,\n",
            "              \"blocked\": false\n",
            "            },\n",
            "            {\n",
            "              \"category\": 10,\n",
            "              \"probability\": 1,\n",
            "              \"blocked\": false\n",
            "            }\n",
            "          ],\n",
            "          \"token_count\": 0,\n",
            "          \"grounding_attributions\": []\n",
            "        }\n",
            "      ]\n",
            "    }),\n",
            ")\n"
          ]
        }
      ]
    },
    {
      "cell_type": "code",
      "source": [
        "Markdown(ans.text)"
      ],
      "metadata": {
        "id": "eKpZELyZ3XKR",
        "outputId": "cf4b5b12-c153-40c2-d219-77de304a8144",
        "colab": {
          "base_uri": "https://localhost:8080/",
          "height": 447
        }
      },
      "execution_count": null,
      "outputs": [
        {
          "output_type": "execute_result",
          "data": {
            "text/plain": [
              "<IPython.core.display.Markdown object>"
            ],
            "text/markdown": "The Bhagavad Gita, a 700-verse Hindu scripture that is part of the epic Mahabharata, offers a profound exploration of various philosophical and spiritual ideas. Here are some of its key teachings:\n\n**1. Dharma (Duty):**  The Gita emphasizes the importance of fulfilling one's dharma, or duty, in life. This doesn't simply mean societal obligations but also the duties aligned with one's inner nature and purpose. It encourages righteous action without attachment to the results.\n\n**2. Karma Yoga (Path of Action):**  The Gita advocates for selfless action.  It teaches that we should act without being attached to the fruits of our actions, performing our duties as a form of offering to the divine. This selfless action helps purify the mind and leads to liberation.\n\n**3. Bhakti Yoga (Path of Devotion):**  The text emphasizes the importance of devotion to God. It suggests surrendering to a higher power, whether Krishna or another chosen deity, as a path to spiritual liberation.  This surrender involves love, faith, and constant remembrance of the divine.\n\n**4. Jnana Yoga (Path of Knowledge):**  The Gita explores the nature of the self (Atman) and the ultimate reality (Brahman). It encourages self-knowledge and realization of the true nature of existence, leading to freedom from ignorance and suffering.\n\n**5. The Nature of Reality:**  The Gita delves into the nature of the universe, the self, and the divine. It presents the concept of Brahman as the ultimate reality, and Atman as the individual self which is ultimately a part of Brahman. This understanding leads to a sense of unity with the universe and liberation from the cycle of birth and death.\n\n**6. Overcoming Attachment and Desire:** The Gita emphasizes that attachment to desires and material possessions is the root cause of suffering. It encourages detachment from the fruits of actions and the cultivation of inner peace and equanimity.\n\n**7. The Importance of a Spiritual Teacher (Guru):** The dialogue in the Gita takes place between Arjuna and his charioteer, Krishna, who serves as his guru.  It highlights the significance of seeking guidance from a wise and enlightened teacher on the spiritual path.\n\n**8. Freedom and Liberation (Moksha):**  The ultimate goal in the Gita is liberation from the cycle of birth and death (samsara).  This liberation is achieved through self-realization, selfless action, devotion, and the pursuit of knowledge. \n\n**Overall, the Bhagavad Gita offers a comprehensive guide to living a meaningful and spiritual life. It teaches that through understanding our duty, acting selflessly, cultivating devotion, and seeking wisdom, we can achieve liberation and experience lasting peace and happiness.** \n"
          },
          "metadata": {},
          "execution_count": 26
        }
      ]
    }
  ],
  "metadata": {
    "colab": {
      "provenance": [],
      "include_colab_link": true
    },
    "kernelspec": {
      "display_name": "Python 3",
      "name": "python3"
    }
  },
  "nbformat": 4,
  "nbformat_minor": 0
}